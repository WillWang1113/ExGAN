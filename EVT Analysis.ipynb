{
 "cells": [
  {
   "cell_type": "code",
   "execution_count": 1,
   "metadata": {},
   "outputs": [
    {
     "name": "stderr",
     "output_type": "stream",
     "text": [
      "/home/wcx/GD_project/venv/lib/python3.8/site-packages/tqdm/auto.py:22: TqdmWarning: IProgress not found. Please update jupyter and ipywidgets. See https://ipywidgets.readthedocs.io/en/stable/user_install.html\n",
      "  from .autonotebook import tqdm as notebook_tqdm\n"
     ]
    }
   ],
   "source": [
    "import torch\n",
    "import numpy as np\n",
    "import matplotlib.pyplot as plt\n",
    "from scipy.stats import skewnorm, genpareto"
   ]
  },
  {
   "cell_type": "code",
   "execution_count": 31,
   "metadata": {},
   "outputs": [],
   "source": [
    "real = torch.load('DistShift_wind/fake5.pt')\n",
    "# real = torch.load('real_wind.pt')"
   ]
  },
  {
   "cell_type": "code",
   "execution_count": 32,
   "metadata": {},
   "outputs": [],
   "source": [
    "sums = torch.trapezoid(real, dx=1 / 4).cpu().numpy() / 10\n",
    "# genpareto_params = genpareto.fit(sums)\n",
    "# print(genpareto_params)\n",
    "# tail_rv = genpareto(*genpareto_params)\n",
    "# plt.scatter(sums, tail_rv.pdf(sums))\n",
    "# # _ = plt.hist(sums.squeeze(), bins=30, alpha=0.1, density=True)\n",
    "# print(sums)"
   ]
  },
  {
   "cell_type": "code",
   "execution_count": 33,
   "metadata": {},
   "outputs": [
    {
     "name": "stdout",
     "output_type": "stream",
     "text": [
      "94.36864852905273\n",
      "564\n"
     ]
    }
   ],
   "source": [
    "percentile = (100*(1-(0.75**10)))\n",
    "print(percentile)\n",
    "tail = np.where(sums > np.percentile(sums, percentile))[0][-1]\n",
    "print(tail)"
   ]
  },
  {
   "cell_type": "code",
   "execution_count": 34,
   "metadata": {},
   "outputs": [],
   "source": [
    "body_dist, tail_dist = sums[tail:], sums[:tail]"
   ]
  },
  {
   "cell_type": "code",
   "execution_count": 35,
   "metadata": {},
   "outputs": [],
   "source": [
    "skewnorm_params = skewnorm.fit(sums)\n",
    "genpareto_params = genpareto.fit(tail_dist - sums[tail])"
   ]
  },
  {
   "cell_type": "code",
   "execution_count": 36,
   "metadata": {},
   "outputs": [],
   "source": [
    "body_rv = skewnorm(*skewnorm_params)\n",
    "tail_rv = genpareto(*genpareto_params)"
   ]
  },
  {
   "cell_type": "code",
   "execution_count": 37,
   "metadata": {},
   "outputs": [
    {
     "data": {
      "image/png": "[encoded data removed]",
      "text/plain": [
       "<Figure size 640x480 with 1 Axes>"
      ]
     },
     "metadata": {},
     "output_type": "display_data"
    }
   ],
   "source": [
    "# plt.scatter(body_dist, body_rv.pdf(body_dist))\n",
    "# plt.scatter(tail_dist, tail_rv.pdf(tail_dist - sums[tail]))\n",
    "# plt.scatter(tail_dist, (1-body_rv.cdf(sums[tail]))*tail_rv.pdf(tail_dist - sums[tail]))\n",
    "_ = plt.hist(sums.squeeze(), bins=40, alpha=0.3, density=True)\n"
   ]
  },
  {
   "cell_type": "code",
   "execution_count": null,
   "metadata": {},
   "outputs": [],
   "source": [
    "plt.scatter(body_dist, body_rv.cdf(body_dist))\n",
    "plt.scatter(tail_dist, body_rv.cdf(body_dist[0])+(1-percentile)*tail_rv.cdf(tail_dist - sums[tail]))"
   ]
  },
  {
   "cell_type": "code",
   "execution_count": null,
   "metadata": {},
   "outputs": [],
   "source": [
    "sums[tail]"
   ]
  },
  {
   "cell_type": "code",
   "execution_count": null,
   "metadata": {},
   "outputs": [],
   "source": [
    "genpareto_params"
   ]
  },
  {
   "cell_type": "code",
   "execution_count": null,
   "metadata": {},
   "outputs": [],
   "source": [
    "skewnorm_params"
   ]
  },
  {
   "cell_type": "code",
   "execution_count": null,
   "metadata": {},
   "outputs": [],
   "source": []
  }
 ],
 "metadata": {
  "kernelspec": {
   "display_name": "venv",
   "language": "python",
   "name": "python3"
  },
  "language_info": {
   "codemirror_mode": {
    "name": "ipython",
    "version": 3
   },
   "file_extension": ".py",
   "mimetype": "text/x-python",
   "name": "python",
   "nbconvert_exporter": "python",
   "pygments_lexer": "ipython3",
   "version": "3.8.10"
  },
  "vscode": {
   "interpreter": {
    "hash": "d9c5475bcc71fc973f16978f94c40d216cf18e9eee2007cd0baa59bbad62bf8a"
   }
  }
 },
 "nbformat": 4,
 "nbformat_minor": 4
}
