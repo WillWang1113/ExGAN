{
 "cells": [
  {
   "cell_type": "code",
   "execution_count": 1,
   "metadata": {},
   "outputs": [
    {
     "name": "stderr",
     "output_type": "stream",
     "text": [
      "/home/wcx/GD_project/venv/lib/python3.8/site-packages/tqdm/auto.py:22: TqdmWarning: IProgress not found. Please update jupyter and ipywidgets. See https://ipywidgets.readthedocs.io/en/stable/user_install.html\n",
      "  from .autonotebook import tqdm as notebook_tqdm\n",
      "/home/wcx/GD_project/venv/lib/python3.8/site-packages/tslearn/bases/bases.py:15: UserWarning: h5py not installed, hdf5 features will not be supported.\n",
      "Install h5py to use hdf5 features: http://docs.h5py.org/\n",
      "  warn(h5py_msg)\n",
      "/tmp/ipykernel_2386824/1885264880.py:14: MatplotlibDeprecationWarning: The seaborn styles shipped by Matplotlib are deprecated since 3.6, as they no longer correspond to the styles shipped by seaborn. However, they will remain available as 'seaborn-v0_8-<style>'. Alternatively, directly use the seaborn API instead.\n",
      "  plt.style.use([\"seaborn-paper\"])\n"
     ]
    }
   ],
   "source": [
    "import torch\n",
    "import matplotlib.pyplot as plt\n",
    "import torch.nn as nn\n",
    "import seaborn as sns\n",
    "import pandas as pd\n",
    "\n",
    "import statsmodels.api as sm\n",
    "from statsmodels.distributions.empirical_distribution import ECDF\n",
    "from scipy.spatial.distance import correlation\n",
    "from scipy.stats import wasserstein_distance, norm\n",
    "from tslearn.metrics import dtw\n",
    "import numpy as np\n",
    "\n",
    "plt.style.use([\"seaborn-paper\"])\n"
   ]
  },
  {
   "cell_type": "code",
   "execution_count": null,
   "metadata": {},
   "outputs": [],
   "source": [
    "def autocor(data, lags, plot=False):\n",
    "    # compute autocorrelation for lag=[0:lags]\n",
    "    cor = sm.tsa.acf(data, nlags=lags)\n",
    "    if plot:\n",
    "        sm.graphics.tsa.plot_acf(data, lags=lags)\n",
    "        plt.show()\n",
    "    return cor\n",
    "\n",
    "\n",
    "def cdf(data):\n",
    "    # return CDF function\n",
    "    return ECDF(data)\n",
    "\n",
    "\n",
    "def psd(data):\n",
    "    # compute power spectral density\n",
    "    pxx, freqs = plt.psd(data)\n",
    "    return pxx, freqs\n",
    "\n",
    "\n",
    "def cor_dist(data_1, data_2):\n",
    "    # compute correlation distance between data_1 & data_2\n",
    "    return correlation(data_1, data_2)\n",
    "\n",
    "\n",
    "def ws_dist(data_1, data_2):\n",
    "    # compute wasserstein distance between the distribution data_1 & data_2\n",
    "    distrib_1 = norm.pdf(data_1)\n",
    "    distrib_2 = norm.pdf(data_2)\n",
    "    return wasserstein_distance(distrib_1, distrib_2)\n",
    "\n",
    "\n",
    "def dtw_dist(data_1, data_2):\n",
    "    # compute distance between data_1 & data_2 by Dynamic time warping\n",
    "    return dtw(data_1, data_2)"
   ]
  },
  {
   "attachments": {},
   "cell_type": "markdown",
   "metadata": {},
   "source": [
    "0. Distribution Shift"
   ]
  },
  {
   "cell_type": "code",
   "execution_count": 7,
   "metadata": {},
   "outputs": [
    {
     "data": {
      "image/png": "[encoded data removed]",
      "text/plain": [
       "<Figure size 640x440 with 1 Axes>"
      ]
     },
     "metadata": {},
     "output_type": "display_data"
    }
   ],
   "source": [
    "tp = \"pv\"\n",
    "ks = [2, 5, 10]\n",
    "c = 0.75\n",
    "\n",
    "real = torch.load(f'real_{tp}.pt').cpu()\n",
    "n = len(real)\n",
    "sums_real = torch.trapezoid(real, dx=1 / 4).cpu().numpy() / 10\n",
    "fig, axs = plt.subplots()\n",
    "sns.histplot(sums_real.flatten(),\n",
    "             ax=axs,\n",
    "             label=\"k = 0\",\n",
    "             kde=True,\n",
    "             edgecolor=\"none\",\n",
    "             stat=\"density\")\n",
    "for i in range(len(ks)):\n",
    "    k = ks[i]\n",
    "    val = int((c**k) * n)\n",
    "    X_s = torch.load(f'DistShift_{tp}/fake{k}.pt').cpu()\n",
    "    X_concat = torch.cat([real[:val], X_s[:n - val]], 0)\n",
    "    sums_shift = torch.trapezoid(X_concat, dx=1 / 4).cpu().numpy() / 10\n",
    "    sns.histplot(\n",
    "        sums_shift.flatten(),\n",
    "        ax=axs,\n",
    "        label=f\"k = {k}\",\n",
    "        kde=True,\n",
    "        edgecolor=\"none\",\n",
    "        stat=\"density\")\n",
    "    axs.legend()\n",
    "    axs.set(xlabel=\"Daily power generation (p.u.)\")\n",
    "\n",
    "fig.tight_layout()\n",
    "fig.savefig(f\"figs/{tp}_shift.pdf\")"
   ]
  },
  {
   "attachments": {},
   "cell_type": "markdown",
   "metadata": {},
   "source": [
    "1. Reconstruct compare"
   ]
  },
  {
   "cell_type": "code",
   "execution_count": null,
   "metadata": {},
   "outputs": [],
   "source": [
    "tp = \"wind\"\n",
    "model = \"ExGAN\"\n",
    "gen = torch.load(f\"logs/{model}_{tp}_np.pt\").squeeze()\n",
    "real = torch.load(f\"test_{tp}.pt\").detach().cpu().numpy().squeeze()\n",
    "fig, axs = plt.subplots(3, 4, figsize=[10, 7], sharey=True)\n",
    "lag = 15\n",
    "idxs = [2, 4, 13, 14]\n",
    "for i in range(4):\n",
    "    axs[0][i].plot(range(96), real[idxs[i]].squeeze(), label=\"Real\", lw=2)\n",
    "    axs[1][i].plot(range(96),\n",
    "                   gen[idxs[i]].squeeze(),\n",
    "                   label=\"Generated\",\n",
    "                   c=\"C1\", lw=2)\n",
    "\n",
    "    atc_tgt = autocor(real[idxs[i]], lags=lag)\n",
    "    atc_best = autocor(gen[idxs[i]].squeeze(), lags=lag)\n",
    "    axs[2][i].plot(range(len(atc_tgt)), atc_tgt, label=\"Real\", lw=2)\n",
    "    axs[2][i].plot(range(len(atc_tgt)), atc_best, label=\"Generated\", lw=2)\n",
    "\n",
    "    axs[0][i].set(ylim=[0, 1.1],\n",
    "                  xlim=[0, 96],\n",
    "                  ylabel=\"Power (p.u.)\",\n",
    "                  xlabel=\"Time (15min)\")\n",
    "    axs[1][i].set(ylim=[0, 1.1],\n",
    "                  xlim=[0, 96],\n",
    "                  ylabel=\"Power (p.u.)\",\n",
    "                  xlabel=\"Time (15min)\")\n",
    "    axs[2][i].set(ylim=[0, 1.1],\n",
    "                  xlim=[0, lag],\n",
    "                  ylabel=\"Autocorrelation Coefficient\",\n",
    "                  xlabel=\"Lag\")\n",
    "    axs[0][i].legend(loc=1)\n",
    "    axs[1][i].legend(loc=1)\n",
    "    axs[2][i].legend(loc=1)\n",
    "    # axs[0][i].xaxis.set_major_locator(plt.MaxNLocator(3))\n",
    "    # axs[1][i].yaxis.set_major_locator(plt.MaxNLocator(3))\n",
    "    axs[0][i].grid()\n",
    "    axs[1][i].grid()\n",
    "    axs[2][i].grid()\n",
    "\n",
    "fig.tight_layout()\n",
    "fig.savefig(f\"figs/{model}_{tp}_cor.pdf\")"
   ]
  },
  {
   "attachments": {},
   "cell_type": "markdown",
   "metadata": {},
   "source": [
    "2. Single compare"
   ]
  },
  {
   "cell_type": "code",
   "execution_count": null,
   "metadata": {},
   "outputs": [],
   "source": [
    "tp = [\"wind\", \"pv\"]\n",
    "model = [\"DCGAN\", \"CDCGAN\", \"ExGAN\"]\n",
    "names = [\"DCGAN\", \"CDCGAN\", \"EGAN\"]\n",
    "\n",
    "fig, axs = plt.subplots(1, 2, figsize=[8, 4], sharey=True)\n",
    "axs = axs.flatten()\n",
    "# lag = 15\n",
    "idxs = 2\n",
    "for i in range(len(tp)):\n",
    "    real = torch.load(f\"test_{tp[i]}.pt\").detach().cpu().numpy().squeeze()\n",
    "    axs[i].plot(range(96), real[idxs], label=\"Real\", lw=2)\n",
    "    for j in range(len(model)):\n",
    "        gen = torch.load(f\"logs/{model[j]}_{tp[i]}_np.pt\").squeeze()\n",
    "        axs[i].plot(range(96), gen[idxs], label=names[j], lw=2, alpha=0.7)\n",
    "    axs[i].set(ylim=[0, 1.1],\n",
    "                  xlim=[0, 96],\n",
    "                  ylabel=\"Power (p.u.)\",\n",
    "                  xlabel=\"Time (15min)\")\n",
    "    # axs[i].grid()\n",
    "    axs[i].legend()\n",
    "fig.tight_layout()\n",
    "fig.savefig(f\"figs/model_compare.pdf\")\n"
   ]
  },
  {
   "attachments": {},
   "cell_type": "markdown",
   "metadata": {},
   "source": [
    "2. Stats"
   ]
  },
  {
   "cell_type": "code",
   "execution_count": null,
   "metadata": {},
   "outputs": [],
   "source": [
    "tp = \"wind\"\n",
    "model = [\"ExGAN\"]\n",
    "# model = [\"DCGAN\", \"CDCGAN\", \"ExGAN\"]\n",
    "if tp == \"pv\" and model == \"ExGAN\":\n",
    "    num = 730\n",
    "else:\n",
    "    num = 3288\n",
    "\n",
    "if not model == \"ExGAN\":\n",
    "    num = \"np\"\n",
    "\n",
    "fig, axs = plt.subplots(2, 1)\n",
    "# fig, axs = plt.subplots(2, 1, figsize=[10, 7])\n",
    "axs = axs.flatten()\n",
    "\n",
    "real = torch.load(f\"test_{tp}.pt\").detach().cpu().numpy().squeeze()\n",
    "real = np.delete(real, slice(81, 110), 0)\n",
    "real = real.flatten()[:150 * 96]\n",
    "\n",
    "x = np.linspace(0, 1)\n",
    "fn_target = ECDF(real)\n",
    "axs[0].step(x, fn_target(x), label=\"Real\", lw=2)\n",
    "sns.histplot(real.flatten(), ax=axs[1], label=\"Real\", kde=True, stat=\"density\")\n",
    "for i in range(len(model)):\n",
    "    gen = torch.load(f\"logs/{model[i]}_{tp}_{num}.pt\").squeeze()\n",
    "    gen = np.maximum(gen, 0)\n",
    "    gen = np.delete(gen, slice(81, 110), 0)\n",
    "    gen = gen.flatten()[:150 * 96]\n",
    "\n",
    "    fn_fit = ECDF(gen)\n",
    "\n",
    "    # axs[0].step(x, fn_fit(x), label=model[i], lw=2)\n",
    "    axs[0].step(x, fn_fit(x), label=\"Generated\", lw=2)\n",
    "    axs[0].set(ylabel=\"CDF\")\n",
    "    sns.histplot(gen.flatten(),\n",
    "                ax=axs[1],\n",
    "                # label=model[i],\n",
    "                label=\"Generated\",\n",
    "                kde=True,\n",
    "                stat=\"density\")\n",
    "\n",
    "    axs[0].legend()\n",
    "    axs[1].legend()\n",
    "\n",
    "fig.tight_layout()\n",
    "fig.savefig(f\"figs/EGAN_{tp}_stats.pdf\")"
   ]
  },
  {
   "attachments": {},
   "cell_type": "markdown",
   "metadata": {},
   "source": [
    "3. Spatial"
   ]
  },
  {
   "cell_type": "code",
   "execution_count": null,
   "metadata": {},
   "outputs": [],
   "source": [
    "tps = [\"wind\", \"pv\"]\n",
    "model = \"ExGAN\"\n",
    "if tp == \"pv\" and model == \"ExGAN\":\n",
    "    num = 730\n",
    "else:\n",
    "    num = 3288\n",
    "\n",
    "if not model == \"DCGAN\":\n",
    "    num = \"np\"\n",
    "\n",
    "fig, axs = plt.subplots(2, 2)\n",
    "axs = axs.flatten()\n",
    "for i in range(4):\n",
    "    tp = \"pv\" if i / 2 >= 1 else \"wind\"\n",
    "\n",
    "    real = torch.load(f\"test_{tp}.pt\").detach().cpu().numpy().squeeze()\n",
    "    real = np.delete(real, slice(81, 110), 0)\n",
    "\n",
    "    gen = torch.load(f\"logs/{model}_{tp}_{num}.pt\").squeeze()\n",
    "    gen = np.maximum(gen, 0)\n",
    "    gen = np.delete(gen, slice(81, 110), 0)\n",
    "\n",
    "    num_site = 25\n",
    "    idxs = slice(0, num_site)\n",
    "    real, gen = real[idxs], gen[idxs]\n",
    "\n",
    "    heat_map = np.zeros([num_site, num_site])\n",
    "    temp = real if i % 2 == 0 else gen\n",
    "    for j in range(num_site):\n",
    "        for k in range(num_site):\n",
    "            coef = np.corrcoef(temp[j], temp[k])[0, 1]\n",
    "            # coef = min(abs(coef) + 0.1, 1)\n",
    "            heat_map[j, k] = coef\n",
    "    heat_map = (heat_map - heat_map.min()) / (heat_map.max() -\n",
    "                                              heat_map.min()) * (1 - 0.6) + 0.6\n",
    "\n",
    "    sns.heatmap(heat_map,\n",
    "                ax=axs[i],\n",
    "                cmap=\"RdBu_r\",\n",
    "                vmax=1,\n",
    "                vmin=0.6,\n",
    "                square=True)\n",
    "    axs[i].xaxis.set_major_locator(plt.MaxNLocator(5))\n",
    "    axs[i].yaxis.set_major_locator(plt.MaxNLocator(5))\n",
    "    axs[i].set(xticklabels=range(0, 26, 5),\n",
    "               yticklabels=range(0, 26, 5),\n",
    "               xlabel=\"Wind sites\" if int(i / 2) == 0 else \"Solar sites\",\n",
    "               ylabel=\"Wind sites\" if int(i / 2) == 0 else \"Solar sites\",\n",
    "               title=\"Real\" if i % 2 == 0 else \"Generated\")\n",
    "fig.tight_layout()\n",
    "fig.savefig(f\"figs/spatial.pdf\")\n"
   ]
  },
  {
   "cell_type": "code",
   "execution_count": 9,
   "metadata": {},
   "outputs": [
    {
     "data": {
      "image/png": "[encoded data removed]",
      "text/plain": [
       "<Figure size 640x440 with 1 Axes>"
      ]
     },
     "metadata": {},
     "output_type": "display_data"
    }
   ],
   "source": [
    "# np.random.seed(1)\n",
    "real = torch.load(\"real_wind.pt\").detach().cpu().numpy().squeeze()\n",
    "ext = np.trapz(real, dx=1 / 4).flatten()\n",
    "fig, ax = plt.subplots()\n",
    "sns.histplot(ext, kde=True, stat=\"density\", ax=ax, edgecolor=\"none\")\n",
    "ax.set(xlabel=\"Daily electricity generation\")\n",
    "fig.tight_layout()\n",
    "fig.savefig(\"figs/intro.pdf\")\n"
   ]
  }
 ],
 "metadata": {
  "kernelspec": {
   "display_name": "venv",
   "language": "python",
   "name": "python3"
  },
  "language_info": {
   "codemirror_mode": {
    "name": "ipython",
    "version": 3
   },
   "file_extension": ".py",
   "mimetype": "text/x-python",
   "name": "python",
   "nbconvert_exporter": "python",
   "pygments_lexer": "ipython3",
   "version": "3.8.10"
  },
  "orig_nbformat": 4,
  "vscode": {
   "interpreter": {
    "hash": "68c0dca1e76dad75795e5f3aeb5f7c7467e63dd44e0d6b6e204a3c0494d4be13"
   }
  }
 },
 "nbformat": 4,
 "nbformat_minor": 2
}
